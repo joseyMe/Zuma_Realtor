{
 "cells": [
  {
   "cell_type": "markdown",
   "metadata": {},
   "source": [
    "### Step 1:Extraction        \n"
   ]
  },
  {
   "cell_type": "markdown",
   "metadata": {},
   "source": [
    "## 1: Importing necessary Libraries"
   ]
  },
  {
   "cell_type": "code",
   "execution_count": 5,
   "metadata": {},
   "outputs": [],
   "source": [
    "import requests\n",
    "import pandas as pd\n",
    "import psycopg2\n",
    "import json"
   ]
  },
  {
   "cell_type": "markdown",
   "metadata": {},
   "source": [
    "## 2: Carry out necessary Extraction"
   ]
  },
  {
   "cell_type": "code",
   "execution_count": 3,
   "metadata": {},
   "outputs": [],
   "source": [
    "url = \"https://realty-mole-property-api.p.rapidapi.com/randomProperties\"\n",
    "\n",
    "querystring = {\"limit\":\"5\"}\n",
    "\n",
    "headers = {\n",
    "\t\"x-rapidapi-key\": \"517b9c4d17msh3312c1f5cbd8bf1p1a9a23jsnedc065d9e6ac\",\n",
    "\t\"x-rapidapi-host\": \"realty-mole-property-api.p.rapidapi.com\"\n",
    "}\n",
    "\n",
    "response = requests.get(url, headers=headers, params=querystring)"
   ]
  },
  {
   "cell_type": "code",
   "execution_count": 4,
   "metadata": {},
   "outputs": [
    {
     "name": "stdout",
     "output_type": "stream",
     "text": [
      "[{'addressLine1': '1457 W 1625 S', 'city': 'Cedar City', 'state': 'UT', 'zipCode': '84720', 'formattedAddress': '1457 W 1625 S, Unit E, Cedar City, UT 84720', 'addressLine2': 'Unit E', 'county': 'Iron', 'assessorID': 'B-1386-0005-0000', 'legalDescription': 'UNIT 5, CEDAR EDGE P.U.D., PHASE I; TOG W/ UND INT IN COMMON AREA', 'lotSize': 1394, 'propertyType': 'Single Family', 'lastSaleDate': '2022-03-30T00:00:00.000Z', 'ownerOccupied': False, 'features': {}, 'taxAssessment': {'2023': {'value': 135215}}, 'propertyTaxes': {'2023': {'total': 1078}}, 'owner': {'names': ['DAVID SCOTT JENISON', 'BETH JENISON PRISDILIA', 'THE P SCOTT & PRISCILLA B JENISON T'], 'mailingAddress': {'id': '5285-W-3200-S,-Hurricane,-UT-84737', 'formattedAddress': '5285 W 3200 S, Hurricane, UT 84737', 'addressLine1': '5285 W 3200 S', 'city': 'Hurricane', 'state': 'UT', 'zipCode': '84737'}}, 'id': '1457-W-1625-S,-Unit-E,-Cedar-City,-UT-84720', 'longitude': -113.081311, 'latitude': 37.648168}, {'addressLine1': '3326 Spangler Dr', 'city': 'Lexington', 'state': 'KY', 'zipCode': '40517', 'formattedAddress': '3326 Spangler Dr, Lexington, KY 40517', 'assessorID': '14192857', 'county': 'Fayette', 'legalDescription': 'B-596A KIRKLEVINGTON SOUTH LOT 8; BOOK: 3703 PAGE: 242', 'squareFootage': 2414, 'subdivision': 'KIRKLEVINGTON SOUTH', 'yearBuilt': 1978, 'zoning': 'R-3', 'bathrooms': 3, 'lotSize': 8281, 'propertyType': 'Duplex-Triplex', 'lastSalePrice': 209000, 'lastSaleDate': '2019-10-01T00:00:00.000Z', 'bedrooms': 5, 'features': {'architectureType': 'Duplex', 'cooling': True, 'coolingType': 'Central', 'exteriorType': 'Brick / Stone', 'fireplace': True, 'floorCount': 2, 'heating': True, 'heatingType': 'Central'}, 'taxAssessment': {'2019': {'value': 167000}, '2022': {'value': 216700}}, 'propertyTaxes': {'2019': {'total': 2133}, '2022': {'total': 2768}}, 'owner': {'names': ['HOLLENBACK HOMES LLC'], 'mailingAddress': {'id': '195-Roaring-Springs-Ln,-Midway,-KY-40347', 'addressLine1': '195 Roaring Springs Ln', 'city': 'Midway', 'state': 'KY', 'zipCode': '40347'}}, 'id': '3326-Spangler-Dr,-Lexington,-KY-40517', 'longitude': -84.502713, 'latitude': 37.984493}, {'addressLine1': '292 Swaying Pine Ct', 'city': 'Crestview', 'state': 'FL', 'zipCode': '32539', 'formattedAddress': '292 Swaying Pine Ct, Crestview, FL 32539', 'assessorID': '28-3N-23-1020-000C-0960', 'bedrooms': 3, 'county': 'Okaloosa', 'legalDescription': 'ROLLING PINES T/H LOT 96 BLK C', 'ownerOccupied': False, 'squareFootage': 1356, 'subdivision': 'ROLLING PINES T/H', 'yearBuilt': 2007, 'bathrooms': 2, 'lotSize': 1944, 'propertyType': 'Single Family', 'lastSalePrice': 182500, 'lastSaleDate': '2022-10-18T00:00:00.000Z', 'features': {'architectureType': 'Condo / Apartment', 'cooling': True, 'coolingType': 'Central', 'exteriorType': 'Aluminum / Vinyl Siding', 'floorCount': 2, 'garage': True, 'garageType': 'Garage', 'heating': True, 'heatingType': 'Forced Air', 'roofType': 'Composition Shingle', 'unitCount': 1}, 'taxAssessment': {'2020': {'value': 91946, 'land': 15000, 'improvements': 76946}, '2021': {'value': 93233}, '2022': {'value': 96030}, '2023': {'value': 153520, 'land': 20000, 'improvements': 133520}}, 'propertyTaxes': {'2020': {'total': 857}, '2022': {'total': 889}, '2023': {'total': 2484}}, 'owner': {'names': ['Deshawn Anthony Williams', 'Khalilah Marie Williams'], 'mailingAddress': {'id': '24027-139th-Pl-SE,-Kent,-WA-98042', 'formattedAddress': '24027 139th Pl SE, Kent, WA 98042', 'addressLine1': '24027 139th Pl SE', 'city': 'Kent', 'state': 'WA', 'zipCode': '98042'}}, 'id': '292-Swaying-Pine-Ct,-Crestview,-FL-32539', 'longitude': -86.547856, 'latitude': 30.731462}, {'addressLine1': '1326 Knight Ave', 'city': 'Flint', 'state': 'MI', 'zipCode': '48503', 'formattedAddress': '1326 Knight Ave, Flint, MI 48503', 'bedrooms': 2, 'squareFootage': 760, 'yearBuilt': 1938, 'county': 'Genesee', 'assessorID': '40-23-132-025', 'legalDescription': 'CORUNNA HEIGHTS LOT 90', 'subdivision': 'CORUNNA HEIGHTS', 'zoning': 'A2', 'bathrooms': 1, 'lotSize': 5271, 'propertyType': 'Single Family', 'lastSalePrice': 21700, 'lastSaleDate': '1987-05-01T00:00:00.000Z', 'features': {'exteriorType': 'Siding', 'floorCount': 1, 'heating': True, 'heatingType': 'Forced Air', 'roomCount': 5}, 'taxAssessment': {'2022': {'value': 10700}}, 'owner': {'names': ['AZIZ MASSAD', 'AZIZ DIANE MASSAD'], 'mailingAddress': {'id': '1461-W-Maple-Ave,-Flint,-MI-48507', 'addressLine1': '1461 W Maple Ave', 'city': 'Flint', 'state': 'MI', 'zipCode': '48507'}}, 'id': '1326-Knight-Ave,-Flint,-MI-48503', 'longitude': -83.726221, 'latitude': 43.000095}, {'addressLine1': '3311 W Sunset Ave', 'city': 'Boise', 'state': 'ID', 'zipCode': '83703', 'formattedAddress': '3311 W Sunset Ave, Boise, ID 83703', 'assessorID': 'R5154250070', 'bedrooms': 3, 'county': 'Ada', 'legalDescription': 'LT 2 EXC E20 E50 LOT 3 BLK 2 ILO LARSON SUB #720/771', 'squareFootage': 1128, 'subdivision': 'ILO LARSON SUB', 'yearBuilt': 1958, 'zoning': 'R-1C', 'bathrooms': 1, 'lotSize': 10019, 'propertyType': 'Single Family', 'features': {'architectureType': 'Conventional', 'cooling': True, 'coolingType': 'Commercial', 'exteriorType': 'Aluminum / Vinyl Siding', 'fireplace': True, 'floorCount': 1, 'garage': True, 'garageSpaces': 2, 'garageType': 'Attached', 'heating': True, 'unitCount': 1}, 'taxAssessment': {'2020': {'value': 275200}, '2022': {'value': 391000, 'land': 253800, 'improvements': 137200}, '2023': {'value': 366800, 'land': 270000, 'improvements': 96800}}, 'propertyTaxes': {'2019': {'total': 2140}, '2022': {'total': 3397}}, 'ownerOccupied': False, 'owner': {'names': ['3311 SUNSET LLC'], 'mailingAddress': {'id': '5489-N-Beethoven-Ave,-Meridian,-ID-83646', 'formattedAddress': '5489 N Beethoven Ave, Meridian, ID 83646', 'addressLine1': '5489 N Beethoven Ave', 'city': 'Meridian', 'state': 'ID', 'zipCode': '83646'}}, 'id': '3311-W-Sunset-Ave,-Boise,-ID-83703', 'longitude': -116.230156, 'latitude': 43.643012}]\n"
     ]
    }
   ],
   "source": [
    "print(response.json())"
   ]
  },
  {
   "cell_type": "markdown",
   "metadata": {},
   "source": [
    "let first save this response file as a json file"
   ]
  },
  {
   "cell_type": "code",
   "execution_count": 6,
   "metadata": {},
   "outputs": [],
   "source": [
    "data= response.json()\n",
    "\n",
    "file_name= 'real_estate.json'\n",
    "\n",
    "with open(file_name, 'w') as file:\n",
    "    json.dump(data,file, indent=4)"
   ]
  },
  {
   "cell_type": "code",
   "execution_count": 8,
   "metadata": {},
   "outputs": [
    {
     "data": {
      "text/html": [
       "<div>\n",
       "<style scoped>\n",
       "    .dataframe tbody tr th:only-of-type {\n",
       "        vertical-align: middle;\n",
       "    }\n",
       "\n",
       "    .dataframe tbody tr th {\n",
       "        vertical-align: top;\n",
       "    }\n",
       "\n",
       "    .dataframe thead th {\n",
       "        text-align: right;\n",
       "    }\n",
       "</style>\n",
       "<table border=\"1\" class=\"dataframe\">\n",
       "  <thead>\n",
       "    <tr style=\"text-align: right;\">\n",
       "      <th></th>\n",
       "      <th>addressLine1</th>\n",
       "      <th>city</th>\n",
       "      <th>state</th>\n",
       "      <th>zipCode</th>\n",
       "      <th>formattedAddress</th>\n",
       "      <th>addressLine2</th>\n",
       "      <th>county</th>\n",
       "      <th>assessorID</th>\n",
       "      <th>legalDescription</th>\n",
       "      <th>lotSize</th>\n",
       "      <th>...</th>\n",
       "      <th>id</th>\n",
       "      <th>longitude</th>\n",
       "      <th>latitude</th>\n",
       "      <th>squareFootage</th>\n",
       "      <th>subdivision</th>\n",
       "      <th>yearBuilt</th>\n",
       "      <th>zoning</th>\n",
       "      <th>bathrooms</th>\n",
       "      <th>lastSalePrice</th>\n",
       "      <th>bedrooms</th>\n",
       "    </tr>\n",
       "  </thead>\n",
       "  <tbody>\n",
       "    <tr>\n",
       "      <th>0</th>\n",
       "      <td>1457 W 1625 S</td>\n",
       "      <td>Cedar City</td>\n",
       "      <td>UT</td>\n",
       "      <td>84720</td>\n",
       "      <td>1457 W 1625 S, Unit E, Cedar City, UT 84720</td>\n",
       "      <td>Unit E</td>\n",
       "      <td>Iron</td>\n",
       "      <td>B-1386-0005-0000</td>\n",
       "      <td>UNIT 5, CEDAR EDGE P.U.D., PHASE I; TOG W/ UND...</td>\n",
       "      <td>1394</td>\n",
       "      <td>...</td>\n",
       "      <td>1457-W-1625-S,-Unit-E,-Cedar-City,-UT-84720</td>\n",
       "      <td>-113.081311</td>\n",
       "      <td>37.648168</td>\n",
       "      <td>NaN</td>\n",
       "      <td>NaN</td>\n",
       "      <td>NaN</td>\n",
       "      <td>NaN</td>\n",
       "      <td>NaN</td>\n",
       "      <td>NaN</td>\n",
       "      <td>NaN</td>\n",
       "    </tr>\n",
       "    <tr>\n",
       "      <th>1</th>\n",
       "      <td>3326 Spangler Dr</td>\n",
       "      <td>Lexington</td>\n",
       "      <td>KY</td>\n",
       "      <td>40517</td>\n",
       "      <td>3326 Spangler Dr, Lexington, KY 40517</td>\n",
       "      <td>NaN</td>\n",
       "      <td>Fayette</td>\n",
       "      <td>14192857</td>\n",
       "      <td>B-596A KIRKLEVINGTON SOUTH LOT 8; BOOK: 3703 P...</td>\n",
       "      <td>8281</td>\n",
       "      <td>...</td>\n",
       "      <td>3326-Spangler-Dr,-Lexington,-KY-40517</td>\n",
       "      <td>-84.502713</td>\n",
       "      <td>37.984493</td>\n",
       "      <td>2414.0</td>\n",
       "      <td>KIRKLEVINGTON SOUTH</td>\n",
       "      <td>1978.0</td>\n",
       "      <td>R-3</td>\n",
       "      <td>3.0</td>\n",
       "      <td>209000.0</td>\n",
       "      <td>5.0</td>\n",
       "    </tr>\n",
       "    <tr>\n",
       "      <th>2</th>\n",
       "      <td>292 Swaying Pine Ct</td>\n",
       "      <td>Crestview</td>\n",
       "      <td>FL</td>\n",
       "      <td>32539</td>\n",
       "      <td>292 Swaying Pine Ct, Crestview, FL 32539</td>\n",
       "      <td>NaN</td>\n",
       "      <td>Okaloosa</td>\n",
       "      <td>28-3N-23-1020-000C-0960</td>\n",
       "      <td>ROLLING PINES T/H LOT 96 BLK C</td>\n",
       "      <td>1944</td>\n",
       "      <td>...</td>\n",
       "      <td>292-Swaying-Pine-Ct,-Crestview,-FL-32539</td>\n",
       "      <td>-86.547856</td>\n",
       "      <td>30.731462</td>\n",
       "      <td>1356.0</td>\n",
       "      <td>ROLLING PINES T/H</td>\n",
       "      <td>2007.0</td>\n",
       "      <td>NaN</td>\n",
       "      <td>2.0</td>\n",
       "      <td>182500.0</td>\n",
       "      <td>3.0</td>\n",
       "    </tr>\n",
       "    <tr>\n",
       "      <th>3</th>\n",
       "      <td>1326 Knight Ave</td>\n",
       "      <td>Flint</td>\n",
       "      <td>MI</td>\n",
       "      <td>48503</td>\n",
       "      <td>1326 Knight Ave, Flint, MI 48503</td>\n",
       "      <td>NaN</td>\n",
       "      <td>Genesee</td>\n",
       "      <td>40-23-132-025</td>\n",
       "      <td>CORUNNA HEIGHTS LOT 90</td>\n",
       "      <td>5271</td>\n",
       "      <td>...</td>\n",
       "      <td>1326-Knight-Ave,-Flint,-MI-48503</td>\n",
       "      <td>-83.726221</td>\n",
       "      <td>43.000095</td>\n",
       "      <td>760.0</td>\n",
       "      <td>CORUNNA HEIGHTS</td>\n",
       "      <td>1938.0</td>\n",
       "      <td>A2</td>\n",
       "      <td>1.0</td>\n",
       "      <td>21700.0</td>\n",
       "      <td>2.0</td>\n",
       "    </tr>\n",
       "    <tr>\n",
       "      <th>4</th>\n",
       "      <td>3311 W Sunset Ave</td>\n",
       "      <td>Boise</td>\n",
       "      <td>ID</td>\n",
       "      <td>83703</td>\n",
       "      <td>3311 W Sunset Ave, Boise, ID 83703</td>\n",
       "      <td>NaN</td>\n",
       "      <td>Ada</td>\n",
       "      <td>R5154250070</td>\n",
       "      <td>LT 2 EXC E20 E50 LOT 3 BLK 2 ILO LARSON SUB #7...</td>\n",
       "      <td>10019</td>\n",
       "      <td>...</td>\n",
       "      <td>3311-W-Sunset-Ave,-Boise,-ID-83703</td>\n",
       "      <td>-116.230156</td>\n",
       "      <td>43.643012</td>\n",
       "      <td>1128.0</td>\n",
       "      <td>ILO LARSON SUB</td>\n",
       "      <td>1958.0</td>\n",
       "      <td>R-1C</td>\n",
       "      <td>1.0</td>\n",
       "      <td>NaN</td>\n",
       "      <td>3.0</td>\n",
       "    </tr>\n",
       "  </tbody>\n",
       "</table>\n",
       "<p>5 rows × 27 columns</p>\n",
       "</div>"
      ],
      "text/plain": [
       "          addressLine1        city state  zipCode  \\\n",
       "0        1457 W 1625 S  Cedar City    UT    84720   \n",
       "1     3326 Spangler Dr   Lexington    KY    40517   \n",
       "2  292 Swaying Pine Ct   Crestview    FL    32539   \n",
       "3      1326 Knight Ave       Flint    MI    48503   \n",
       "4    3311 W Sunset Ave       Boise    ID    83703   \n",
       "\n",
       "                              formattedAddress addressLine2    county  \\\n",
       "0  1457 W 1625 S, Unit E, Cedar City, UT 84720       Unit E      Iron   \n",
       "1        3326 Spangler Dr, Lexington, KY 40517          NaN   Fayette   \n",
       "2     292 Swaying Pine Ct, Crestview, FL 32539          NaN  Okaloosa   \n",
       "3             1326 Knight Ave, Flint, MI 48503          NaN   Genesee   \n",
       "4           3311 W Sunset Ave, Boise, ID 83703          NaN       Ada   \n",
       "\n",
       "                assessorID                                   legalDescription  \\\n",
       "0         B-1386-0005-0000  UNIT 5, CEDAR EDGE P.U.D., PHASE I; TOG W/ UND...   \n",
       "1                 14192857  B-596A KIRKLEVINGTON SOUTH LOT 8; BOOK: 3703 P...   \n",
       "2  28-3N-23-1020-000C-0960                     ROLLING PINES T/H LOT 96 BLK C   \n",
       "3            40-23-132-025                             CORUNNA HEIGHTS LOT 90   \n",
       "4              R5154250070  LT 2 EXC E20 E50 LOT 3 BLK 2 ILO LARSON SUB #7...   \n",
       "\n",
       "   lotSize  ...                                           id   longitude  \\\n",
       "0     1394  ...  1457-W-1625-S,-Unit-E,-Cedar-City,-UT-84720 -113.081311   \n",
       "1     8281  ...        3326-Spangler-Dr,-Lexington,-KY-40517  -84.502713   \n",
       "2     1944  ...     292-Swaying-Pine-Ct,-Crestview,-FL-32539  -86.547856   \n",
       "3     5271  ...             1326-Knight-Ave,-Flint,-MI-48503  -83.726221   \n",
       "4    10019  ...           3311-W-Sunset-Ave,-Boise,-ID-83703 -116.230156   \n",
       "\n",
       "    latitude squareFootage          subdivision yearBuilt zoning bathrooms  \\\n",
       "0  37.648168           NaN                  NaN       NaN    NaN       NaN   \n",
       "1  37.984493        2414.0  KIRKLEVINGTON SOUTH    1978.0    R-3       3.0   \n",
       "2  30.731462        1356.0    ROLLING PINES T/H    2007.0    NaN       2.0   \n",
       "3  43.000095         760.0      CORUNNA HEIGHTS    1938.0     A2       1.0   \n",
       "4  43.643012        1128.0       ILO LARSON SUB    1958.0   R-1C       1.0   \n",
       "\n",
       "   lastSalePrice  bedrooms  \n",
       "0            NaN       NaN  \n",
       "1       209000.0       5.0  \n",
       "2       182500.0       3.0  \n",
       "3        21700.0       2.0  \n",
       "4            NaN       3.0  \n",
       "\n",
       "[5 rows x 27 columns]"
      ]
     },
     "execution_count": 8,
     "metadata": {},
     "output_type": "execute_result"
    }
   ],
   "source": [
    "real_estate_df=pd.read_json('real_estate.json')\n",
    "\n",
    "real_estate_df.head()"
   ]
  },
  {
   "cell_type": "code",
   "execution_count": 9,
   "metadata": {},
   "outputs": [
    {
     "data": {
      "text/plain": [
       "Index(['addressLine1', 'city', 'state', 'zipCode', 'formattedAddress',\n",
       "       'addressLine2', 'county', 'assessorID', 'legalDescription', 'lotSize',\n",
       "       'propertyType', 'lastSaleDate', 'ownerOccupied', 'features',\n",
       "       'taxAssessment', 'propertyTaxes', 'owner', 'id', 'longitude',\n",
       "       'latitude', 'squareFootage', 'subdivision', 'yearBuilt', 'zoning',\n",
       "       'bathrooms', 'lastSalePrice', 'bedrooms'],\n",
       "      dtype='object')"
      ]
     },
     "execution_count": 9,
     "metadata": {},
     "output_type": "execute_result"
    }
   ],
   "source": [
    "real_estate_df.columns"
   ]
  }
 ],
 "metadata": {
  "kernelspec": {
   "display_name": "Python 3",
   "language": "python",
   "name": "python3"
  },
  "language_info": {
   "codemirror_mode": {
    "name": "ipython",
    "version": 3
   },
   "file_extension": ".py",
   "mimetype": "text/x-python",
   "name": "python",
   "nbconvert_exporter": "python",
   "pygments_lexer": "ipython3",
   "version": "3.12.2"
  }
 },
 "nbformat": 4,
 "nbformat_minor": 2
}
