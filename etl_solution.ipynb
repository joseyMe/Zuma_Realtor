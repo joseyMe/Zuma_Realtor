{
 "cells": [
  {
   "cell_type": "markdown",
   "metadata": {},
   "source": [
    "### Step 1:Extraction        \n"
   ]
  },
  {
   "cell_type": "markdown",
   "metadata": {},
   "source": [
    " 1: Importing necessary Libraries"
   ]
  },
  {
   "cell_type": "code",
   "execution_count": 2,
   "metadata": {},
   "outputs": [],
   "source": [
    "import requests\n",
    "import pandas as pd\n",
    "import psycopg2\n",
    "import json"
   ]
  },
  {
   "cell_type": "markdown",
   "metadata": {},
   "source": [
    " 2: Carry out necessary Extraction"
   ]
  },
  {
   "cell_type": "code",
   "execution_count": 3,
   "metadata": {},
   "outputs": [],
   "source": [
    "url = \"https://realty-mole-property-api.p.rapidapi.com/randomProperties\"\n",
    "\n",
    "querystring = {\"limit\":\"5\"}\n",
    "\n",
    "headers = {\n",
    "\t\"x-rapidapi-key\": \"517b9c4d17msh3312c1f5cbd8bf1p1a9a23jsnedc065d9e6ac\",\n",
    "\t\"x-rapidapi-host\": \"realty-mole-property-api.p.rapidapi.com\"\n",
    "}\n",
    "\n",
    "response = requests.get(url, headers=headers, params=querystring)"
   ]
  },
  {
   "cell_type": "code",
   "execution_count": 37,
   "metadata": {},
   "outputs": [
    {
     "name": "stdout",
     "output_type": "stream",
     "text": [
      "[{'addressLine1': '16112 Crabbs Branch Way', 'city': 'Derwood', 'state': 'MD', 'zipCode': '20855', 'formattedAddress': '16112 Crabbs Branch Way, Apt 11, Derwood, MD 20855', 'addressLine2': 'Apt 11', 'features': {}, 'county': 'Montgomery', 'id': '16112-Crabbs-Branch-Way,-Apt-11,-Derwood,-MD-20855', 'longitude': -77.156909, 'latitude': 39.118854}, {'addressLine1': '914 Collier Rd NW', 'city': 'Atlanta', 'state': 'GA', 'zipCode': '30318', 'formattedAddress': '914 Collier Rd NW, Apt 3330, Atlanta, GA 30318', 'addressLine2': 'Apt 3330', 'county': 'Fulton', 'propertyType': 'Apartment', 'bedrooms': 2, 'bathrooms': 2, 'squareFootage': 1032, 'features': {}, 'id': '914-Collier-Rd-NW,-Apt-3330,-Atlanta,-GA-30318', 'longitude': -84.415953, 'latitude': 33.80869}, {'addressLine1': '11990 Prairie Ln', 'city': 'Lusby', 'state': 'MD', 'zipCode': '20657', 'formattedAddress': '11990 Prairie Ln, Lusby, MD 20657', 'bedrooms': 3, 'squareFootage': 1714, 'yearBuilt': 2006, 'features': {'architectureType': 'Conventional', 'cooling': True, 'coolingType': 'Commercial', 'exteriorType': 'Aluminum / Vinyl Siding', 'fireplace': True, 'fireplaceType': 'Gas Log', 'floorCount': 2, 'garage': True, 'garageSpaces': 2, 'garageType': 'Attached Garage', 'heating': True, 'heatingType': 'Heat Pump', 'roofType': 'Composition Shingle', 'unitCount': 1}, 'county': 'Calvert', 'assessorID': '01-093894', 'legalDescription': 'LT 19 SEC 1F CHES RANCH ESTS', 'subdivision': 'CHES RANCH ESTATES', 'zoning': 'R', 'ownerOccupied': True, 'bathrooms': 2.5, 'propertyType': 'Single Family', 'taxAssessment': {'2022': {'value': 241767}}, 'propertyTaxes': {'2022': {'total': 2512}}, 'lastSalePrice': 339900, 'lastSaleDate': '2006-05-30T00:00:00.000Z', 'owner': {'names': ['TAMMY Z BELISARIO'], 'mailingAddress': {'id': '11990-Prairie-Ln,-Lusby,-MD-20657', 'addressLine1': '11990 Prairie Ln', 'city': 'Lusby', 'state': 'MD', 'zipCode': '20657'}}, 'id': '11990-Prairie-Ln,-Lusby,-MD-20657', 'longitude': -76.426234, 'latitude': 38.356525}, {'addressLine1': '1310 Ashville Rd', 'city': 'Leeds', 'state': 'AL', 'zipCode': '35094', 'formattedAddress': '1310 Ashville Rd, Leeds, AL 35094', 'bedrooms': 3, 'squareFootage': 1398, 'county': 'Jefferson', 'propertyType': 'Single Family', 'features': {}, 'id': '1310-Ashville-Rd,-Leeds,-AL-35094', 'longitude': -86.535094, 'latitude': 33.553497}, {'addressLine1': '216 N Apple St', 'city': 'Hamburg', 'state': 'PA', 'zipCode': '19526', 'formattedAddress': '216 N Apple St, Apt 1, Hamburg, PA 19526', 'addressLine2': 'Apt 1', 'county': 'Berks', 'features': {}, 'id': '216-N-Apple-St,-Apt-1,-Hamburg,-PA-19526', 'longitude': -75.984661, 'latitude': 40.559012}]\n"
     ]
    }
   ],
   "source": [
    "print(response.json())"
   ]
  },
  {
   "cell_type": "markdown",
   "metadata": {},
   "source": [
    "let first save this response file as a json file"
   ]
  },
  {
   "cell_type": "code",
   "execution_count": 38,
   "metadata": {},
   "outputs": [],
   "source": [
    "data= response.json()\n",
    "\n",
    "file_name= 'real_estate.json'\n",
    "\n",
    "with open(file_name, 'w') as file:\n",
    "    json.dump(data,file, indent=4)"
   ]
  },
  {
   "cell_type": "code",
   "execution_count": 39,
   "metadata": {},
   "outputs": [
    {
     "data": {
      "text/html": [
       "<div>\n",
       "<style scoped>\n",
       "    .dataframe tbody tr th:only-of-type {\n",
       "        vertical-align: middle;\n",
       "    }\n",
       "\n",
       "    .dataframe tbody tr th {\n",
       "        vertical-align: top;\n",
       "    }\n",
       "\n",
       "    .dataframe thead th {\n",
       "        text-align: right;\n",
       "    }\n",
       "</style>\n",
       "<table border=\"1\" class=\"dataframe\">\n",
       "  <thead>\n",
       "    <tr style=\"text-align: right;\">\n",
       "      <th></th>\n",
       "      <th>addressLine1</th>\n",
       "      <th>city</th>\n",
       "      <th>state</th>\n",
       "      <th>zipCode</th>\n",
       "      <th>formattedAddress</th>\n",
       "      <th>addressLine2</th>\n",
       "      <th>features</th>\n",
       "      <th>county</th>\n",
       "      <th>id</th>\n",
       "      <th>longitude</th>\n",
       "      <th>...</th>\n",
       "      <th>assessorID</th>\n",
       "      <th>legalDescription</th>\n",
       "      <th>subdivision</th>\n",
       "      <th>zoning</th>\n",
       "      <th>ownerOccupied</th>\n",
       "      <th>taxAssessment</th>\n",
       "      <th>propertyTaxes</th>\n",
       "      <th>lastSalePrice</th>\n",
       "      <th>lastSaleDate</th>\n",
       "      <th>owner</th>\n",
       "    </tr>\n",
       "  </thead>\n",
       "  <tbody>\n",
       "    <tr>\n",
       "      <th>0</th>\n",
       "      <td>16112 Crabbs Branch Way</td>\n",
       "      <td>Derwood</td>\n",
       "      <td>MD</td>\n",
       "      <td>20855</td>\n",
       "      <td>16112 Crabbs Branch Way, Apt 11, Derwood, MD 2...</td>\n",
       "      <td>Apt 11</td>\n",
       "      <td>{}</td>\n",
       "      <td>Montgomery</td>\n",
       "      <td>16112-Crabbs-Branch-Way,-Apt-11,-Derwood,-MD-2...</td>\n",
       "      <td>-77.156909</td>\n",
       "      <td>...</td>\n",
       "      <td>NaN</td>\n",
       "      <td>NaN</td>\n",
       "      <td>NaN</td>\n",
       "      <td>NaN</td>\n",
       "      <td>NaN</td>\n",
       "      <td>NaN</td>\n",
       "      <td>NaN</td>\n",
       "      <td>NaN</td>\n",
       "      <td>NaN</td>\n",
       "      <td>NaN</td>\n",
       "    </tr>\n",
       "    <tr>\n",
       "      <th>1</th>\n",
       "      <td>914 Collier Rd NW</td>\n",
       "      <td>Atlanta</td>\n",
       "      <td>GA</td>\n",
       "      <td>30318</td>\n",
       "      <td>914 Collier Rd NW, Apt 3330, Atlanta, GA 30318</td>\n",
       "      <td>Apt 3330</td>\n",
       "      <td>{}</td>\n",
       "      <td>Fulton</td>\n",
       "      <td>914-Collier-Rd-NW,-Apt-3330,-Atlanta,-GA-30318</td>\n",
       "      <td>-84.415953</td>\n",
       "      <td>...</td>\n",
       "      <td>NaN</td>\n",
       "      <td>NaN</td>\n",
       "      <td>NaN</td>\n",
       "      <td>NaN</td>\n",
       "      <td>NaN</td>\n",
       "      <td>NaN</td>\n",
       "      <td>NaN</td>\n",
       "      <td>NaN</td>\n",
       "      <td>NaN</td>\n",
       "      <td>NaN</td>\n",
       "    </tr>\n",
       "    <tr>\n",
       "      <th>2</th>\n",
       "      <td>11990 Prairie Ln</td>\n",
       "      <td>Lusby</td>\n",
       "      <td>MD</td>\n",
       "      <td>20657</td>\n",
       "      <td>11990 Prairie Ln, Lusby, MD 20657</td>\n",
       "      <td>NaN</td>\n",
       "      <td>{'architectureType': 'Conventional', 'cooling'...</td>\n",
       "      <td>Calvert</td>\n",
       "      <td>11990-Prairie-Ln,-Lusby,-MD-20657</td>\n",
       "      <td>-76.426234</td>\n",
       "      <td>...</td>\n",
       "      <td>01-093894</td>\n",
       "      <td>LT 19 SEC 1F CHES RANCH ESTS</td>\n",
       "      <td>CHES RANCH ESTATES</td>\n",
       "      <td>R</td>\n",
       "      <td>1.0</td>\n",
       "      <td>{'2022': {'value': 241767}}</td>\n",
       "      <td>{'2022': {'total': 2512}}</td>\n",
       "      <td>339900.0</td>\n",
       "      <td>2006-05-30T00:00:00.000Z</td>\n",
       "      <td>{'names': ['TAMMY Z BELISARIO'], 'mailingAddre...</td>\n",
       "    </tr>\n",
       "    <tr>\n",
       "      <th>3</th>\n",
       "      <td>1310 Ashville Rd</td>\n",
       "      <td>Leeds</td>\n",
       "      <td>AL</td>\n",
       "      <td>35094</td>\n",
       "      <td>1310 Ashville Rd, Leeds, AL 35094</td>\n",
       "      <td>NaN</td>\n",
       "      <td>{}</td>\n",
       "      <td>Jefferson</td>\n",
       "      <td>1310-Ashville-Rd,-Leeds,-AL-35094</td>\n",
       "      <td>-86.535094</td>\n",
       "      <td>...</td>\n",
       "      <td>NaN</td>\n",
       "      <td>NaN</td>\n",
       "      <td>NaN</td>\n",
       "      <td>NaN</td>\n",
       "      <td>NaN</td>\n",
       "      <td>NaN</td>\n",
       "      <td>NaN</td>\n",
       "      <td>NaN</td>\n",
       "      <td>NaN</td>\n",
       "      <td>NaN</td>\n",
       "    </tr>\n",
       "    <tr>\n",
       "      <th>4</th>\n",
       "      <td>216 N Apple St</td>\n",
       "      <td>Hamburg</td>\n",
       "      <td>PA</td>\n",
       "      <td>19526</td>\n",
       "      <td>216 N Apple St, Apt 1, Hamburg, PA 19526</td>\n",
       "      <td>Apt 1</td>\n",
       "      <td>{}</td>\n",
       "      <td>Berks</td>\n",
       "      <td>216-N-Apple-St,-Apt-1,-Hamburg,-PA-19526</td>\n",
       "      <td>-75.984661</td>\n",
       "      <td>...</td>\n",
       "      <td>NaN</td>\n",
       "      <td>NaN</td>\n",
       "      <td>NaN</td>\n",
       "      <td>NaN</td>\n",
       "      <td>NaN</td>\n",
       "      <td>NaN</td>\n",
       "      <td>NaN</td>\n",
       "      <td>NaN</td>\n",
       "      <td>NaN</td>\n",
       "      <td>NaN</td>\n",
       "    </tr>\n",
       "  </tbody>\n",
       "</table>\n",
       "<p>5 rows × 26 columns</p>\n",
       "</div>"
      ],
      "text/plain": [
       "              addressLine1     city state  zipCode  \\\n",
       "0  16112 Crabbs Branch Way  Derwood    MD    20855   \n",
       "1        914 Collier Rd NW  Atlanta    GA    30318   \n",
       "2         11990 Prairie Ln    Lusby    MD    20657   \n",
       "3         1310 Ashville Rd    Leeds    AL    35094   \n",
       "4           216 N Apple St  Hamburg    PA    19526   \n",
       "\n",
       "                                    formattedAddress addressLine2  \\\n",
       "0  16112 Crabbs Branch Way, Apt 11, Derwood, MD 2...       Apt 11   \n",
       "1     914 Collier Rd NW, Apt 3330, Atlanta, GA 30318     Apt 3330   \n",
       "2                  11990 Prairie Ln, Lusby, MD 20657          NaN   \n",
       "3                  1310 Ashville Rd, Leeds, AL 35094          NaN   \n",
       "4           216 N Apple St, Apt 1, Hamburg, PA 19526        Apt 1   \n",
       "\n",
       "                                            features      county  \\\n",
       "0                                                 {}  Montgomery   \n",
       "1                                                 {}      Fulton   \n",
       "2  {'architectureType': 'Conventional', 'cooling'...     Calvert   \n",
       "3                                                 {}   Jefferson   \n",
       "4                                                 {}       Berks   \n",
       "\n",
       "                                                  id  longitude  ...  \\\n",
       "0  16112-Crabbs-Branch-Way,-Apt-11,-Derwood,-MD-2... -77.156909  ...   \n",
       "1     914-Collier-Rd-NW,-Apt-3330,-Atlanta,-GA-30318 -84.415953  ...   \n",
       "2                  11990-Prairie-Ln,-Lusby,-MD-20657 -76.426234  ...   \n",
       "3                  1310-Ashville-Rd,-Leeds,-AL-35094 -86.535094  ...   \n",
       "4           216-N-Apple-St,-Apt-1,-Hamburg,-PA-19526 -75.984661  ...   \n",
       "\n",
       "   assessorID              legalDescription         subdivision  zoning  \\\n",
       "0         NaN                           NaN                 NaN     NaN   \n",
       "1         NaN                           NaN                 NaN     NaN   \n",
       "2   01-093894  LT 19 SEC 1F CHES RANCH ESTS  CHES RANCH ESTATES       R   \n",
       "3         NaN                           NaN                 NaN     NaN   \n",
       "4         NaN                           NaN                 NaN     NaN   \n",
       "\n",
       "   ownerOccupied                taxAssessment              propertyTaxes  \\\n",
       "0            NaN                          NaN                        NaN   \n",
       "1            NaN                          NaN                        NaN   \n",
       "2            1.0  {'2022': {'value': 241767}}  {'2022': {'total': 2512}}   \n",
       "3            NaN                          NaN                        NaN   \n",
       "4            NaN                          NaN                        NaN   \n",
       "\n",
       "  lastSalePrice              lastSaleDate  \\\n",
       "0           NaN                       NaN   \n",
       "1           NaN                       NaN   \n",
       "2      339900.0  2006-05-30T00:00:00.000Z   \n",
       "3           NaN                       NaN   \n",
       "4           NaN                       NaN   \n",
       "\n",
       "                                               owner  \n",
       "0                                                NaN  \n",
       "1                                                NaN  \n",
       "2  {'names': ['TAMMY Z BELISARIO'], 'mailingAddre...  \n",
       "3                                                NaN  \n",
       "4                                                NaN  \n",
       "\n",
       "[5 rows x 26 columns]"
      ]
     },
     "execution_count": 39,
     "metadata": {},
     "output_type": "execute_result"
    }
   ],
   "source": [
    "real_estate_df=pd.read_json('real_estate.json')\n",
    "\n",
    "real_estate_df.head()"
   ]
  },
  {
   "cell_type": "code",
   "execution_count": 96,
   "metadata": {},
   "outputs": [
    {
     "data": {
      "text/plain": [
       "Index(['addressLine1', 'city', 'state', 'zipCode', 'formattedAddress',\n",
       "       'addressLine2', 'features', 'county', 'id', 'longitude', 'latitude',\n",
       "       'propertyType', 'bedrooms', 'bathrooms', 'squareFootage', 'yearBuilt',\n",
       "       'assessorID', 'legalDescription', 'subdivision', 'zoning',\n",
       "       'ownerOccupied', 'taxAssessment', 'propertyTaxes', 'lastSalePrice',\n",
       "       'lastSaleDate', 'owner'],\n",
       "      dtype='object')"
      ]
     },
     "execution_count": 96,
     "metadata": {},
     "output_type": "execute_result"
    }
   ],
   "source": [
    "real_estate_df.columns"
   ]
  },
  {
   "cell_type": "code",
   "execution_count": 97,
   "metadata": {},
   "outputs": [
    {
     "name": "stdout",
     "output_type": "stream",
     "text": [
      "<class 'pandas.core.frame.DataFrame'>\n",
      "RangeIndex: 5 entries, 0 to 4\n",
      "Data columns (total 26 columns):\n",
      " #   Column            Non-Null Count  Dtype  \n",
      "---  ------            --------------  -----  \n",
      " 0   addressLine1      5 non-null      object \n",
      " 1   city              5 non-null      object \n",
      " 2   state             5 non-null      object \n",
      " 3   zipCode           5 non-null      int64  \n",
      " 4   formattedAddress  5 non-null      object \n",
      " 5   addressLine2      5 non-null      object \n",
      " 6   features          5 non-null      object \n",
      " 7   county            5 non-null      object \n",
      " 8   id                5 non-null      object \n",
      " 9   longitude         5 non-null      float64\n",
      " 10  latitude          5 non-null      float64\n",
      " 11  propertyType      5 non-null      object \n",
      " 12  bedrooms          5 non-null      float64\n",
      " 13  bathrooms         5 non-null      float64\n",
      " 14  squareFootage     5 non-null      float64\n",
      " 15  yearBuilt         5 non-null      float64\n",
      " 16  assessorID        5 non-null      object \n",
      " 17  legalDescription  5 non-null      object \n",
      " 18  subdivision       5 non-null      object \n",
      " 19  zoning            1 non-null      object \n",
      " 20  ownerOccupied     5 non-null      float64\n",
      " 21  taxAssessment     5 non-null      object \n",
      " 22  propertyTaxes     5 non-null      object \n",
      " 23  lastSalePrice     5 non-null      object \n",
      " 24  lastSaleDate      5 non-null      object \n",
      " 25  owner             5 non-null      object \n",
      "dtypes: float64(7), int64(1), object(18)\n",
      "memory usage: 1.1+ KB\n"
     ]
    }
   ],
   "source": [
    "real_estate_df.info()"
   ]
  },
  {
   "cell_type": "markdown",
   "metadata": {},
   "source": [
    "## Step2: Cleaning/ Transformation Layer\n",
    "In this layer we would proceed to cleaning the data and breaking it into smaller tables/columns(normalization)"
   ]
  },
  {
   "cell_type": "markdown",
   "metadata": {},
   "source": [
    "first lets replace missing values "
   ]
  },
  {
   "cell_type": "code",
   "execution_count": 98,
   "metadata": {},
   "outputs": [],
   "source": [
    "# replacing missing values with appropriate replacements\n",
    "real_estate_df.fillna({\n",
    "    'bedrooms':0.0,\n",
    "    'bathrooms':0.0,\n",
    "    'squareFootage':0.0,\n",
    "    'yearBuilt':0.0,\n",
    "    'features': 'unknown',\n",
    "    'assessorID':'unknown',\n",
    "    'legalDescription':'unknown',\n",
    "    'subdivision':'unknown',\n",
    "    'ownerOccupied':0.0,\n",
    "    'bathrooms':0.0,\n",
    "    'lotSize':0.0,\n",
    "    'propertyType':'unknown',\n",
    "    'taxAssessment':'unknown',\n",
    "    'propertyTaxes':'unknown',\n",
    "    'lastSalePrice':'0.0',\n",
    "    'zoning ':'unknown',\n",
    "    'addressLine2':'unknown',\n",
    "    'owner':'unknown'\n",
    "}, inplace=True)"
   ]
  },
  {
   "cell_type": "code",
   "execution_count": 99,
   "metadata": {},
   "outputs": [
    {
     "name": "stdout",
     "output_type": "stream",
     "text": [
      "<class 'pandas.core.frame.DataFrame'>\n",
      "RangeIndex: 5 entries, 0 to 4\n",
      "Data columns (total 26 columns):\n",
      " #   Column            Non-Null Count  Dtype  \n",
      "---  ------            --------------  -----  \n",
      " 0   addressLine1      5 non-null      object \n",
      " 1   city              5 non-null      object \n",
      " 2   state             5 non-null      object \n",
      " 3   zipCode           5 non-null      int64  \n",
      " 4   formattedAddress  5 non-null      object \n",
      " 5   addressLine2      5 non-null      object \n",
      " 6   features          5 non-null      object \n",
      " 7   county            5 non-null      object \n",
      " 8   id                5 non-null      object \n",
      " 9   longitude         5 non-null      float64\n",
      " 10  latitude          5 non-null      float64\n",
      " 11  propertyType      5 non-null      object \n",
      " 12  bedrooms          5 non-null      float64\n",
      " 13  bathrooms         5 non-null      float64\n",
      " 14  squareFootage     5 non-null      float64\n",
      " 15  yearBuilt         5 non-null      float64\n",
      " 16  assessorID        5 non-null      object \n",
      " 17  legalDescription  5 non-null      object \n",
      " 18  subdivision       5 non-null      object \n",
      " 19  zoning            1 non-null      object \n",
      " 20  ownerOccupied     5 non-null      float64\n",
      " 21  taxAssessment     5 non-null      object \n",
      " 22  propertyTaxes     5 non-null      object \n",
      " 23  lastSalePrice     5 non-null      object \n",
      " 24  lastSaleDate      5 non-null      object \n",
      " 25  owner             5 non-null      object \n",
      "dtypes: float64(7), int64(1), object(18)\n",
      "memory usage: 1.1+ KB\n"
     ]
    }
   ],
   "source": [
    "real_estate_df.info()"
   ]
  },
  {
   "cell_type": "code",
   "execution_count": 100,
   "metadata": {},
   "outputs": [],
   "source": [
    "real_estate_df['features']=real_estate_df['features'].astype(str)"
   ]
  },
  {
   "cell_type": "code",
   "execution_count": 101,
   "metadata": {},
   "outputs": [],
   "source": [
    "real_estate_df['taxAssessment']=real_estate_df['taxAssessment'].astype(str)"
   ]
  },
  {
   "cell_type": "code",
   "execution_count": 102,
   "metadata": {},
   "outputs": [],
   "source": [
    "real_estate_df['propertyTaxes']=real_estate_df['propertyTaxes'].astype(str)"
   ]
  },
  {
   "cell_type": "code",
   "execution_count": 103,
   "metadata": {},
   "outputs": [],
   "source": [
    "real_estate_df['owner']=real_estate_df['owner'].astype(str)"
   ]
  },
  {
   "cell_type": "code",
   "execution_count": 104,
   "metadata": {},
   "outputs": [],
   "source": [
    "real_estate_df['lastSaleDate']=real_estate_df['lastSaleDate'].astype(str)"
   ]
  },
  {
   "cell_type": "markdown",
   "metadata": {},
   "source": [
    "## Wanted to change the date format to datetime\n",
    "\n",
    "#real_estate_df['lastSaleDate']=pd.to_datetime(real_estate_df['lastSaleDate'])\n",
    "#real_estate_df['lastSaleDate']=real_estate_df.to_datetime['lastSaleDate']"
   ]
  },
  {
   "cell_type": "code",
   "execution_count": 105,
   "metadata": {},
   "outputs": [
    {
     "name": "stdout",
     "output_type": "stream",
     "text": [
      "<class 'pandas.core.frame.DataFrame'>\n",
      "RangeIndex: 5 entries, 0 to 4\n",
      "Data columns (total 26 columns):\n",
      " #   Column            Non-Null Count  Dtype  \n",
      "---  ------            --------------  -----  \n",
      " 0   addressLine1      5 non-null      object \n",
      " 1   city              5 non-null      object \n",
      " 2   state             5 non-null      object \n",
      " 3   zipCode           5 non-null      int64  \n",
      " 4   formattedAddress  5 non-null      object \n",
      " 5   addressLine2      5 non-null      object \n",
      " 6   features          5 non-null      object \n",
      " 7   county            5 non-null      object \n",
      " 8   id                5 non-null      object \n",
      " 9   longitude         5 non-null      float64\n",
      " 10  latitude          5 non-null      float64\n",
      " 11  propertyType      5 non-null      object \n",
      " 12  bedrooms          5 non-null      float64\n",
      " 13  bathrooms         5 non-null      float64\n",
      " 14  squareFootage     5 non-null      float64\n",
      " 15  yearBuilt         5 non-null      float64\n",
      " 16  assessorID        5 non-null      object \n",
      " 17  legalDescription  5 non-null      object \n",
      " 18  subdivision       5 non-null      object \n",
      " 19  zoning            1 non-null      object \n",
      " 20  ownerOccupied     5 non-null      float64\n",
      " 21  taxAssessment     5 non-null      object \n",
      " 22  propertyTaxes     5 non-null      object \n",
      " 23  lastSalePrice     5 non-null      object \n",
      " 24  lastSaleDate      5 non-null      object \n",
      " 25  owner             5 non-null      object \n",
      "dtypes: float64(7), int64(1), object(18)\n",
      "memory usage: 1.1+ KB\n"
     ]
    }
   ],
   "source": [
    "real_estate_df.info()\n"
   ]
  },
  {
   "cell_type": "code",
   "execution_count": 106,
   "metadata": {},
   "outputs": [],
   "source": [
    "# creating the dimension tables\n",
    "#location dimension\n",
    "location_dim=real_estate_df[['addressLine1','city','state','zipCode','formattedAddress','county','longitude',\\\n",
    "                             'latitude','addressLine2']].copy().drop_duplicates().reset_index(drop=True)\n"
   ]
  },
  {
   "cell_type": "code",
   "execution_count": 107,
   "metadata": {},
   "outputs": [],
   "source": [
    "location_dim.index.name='location_id'"
   ]
  },
  {
   "cell_type": "code",
   "execution_count": 108,
   "metadata": {},
   "outputs": [],
   "source": [
    "location_dim = location_dim.reset_index()\n"
   ]
  },
  {
   "cell_type": "code",
   "execution_count": 109,
   "metadata": {},
   "outputs": [
    {
     "data": {
      "text/plain": [
       "Index(['location_id', 'addressLine1', 'city', 'state', 'zipCode',\n",
       "       'formattedAddress', 'county', 'longitude', 'latitude', 'addressLine2'],\n",
       "      dtype='object')"
      ]
     },
     "execution_count": 109,
     "metadata": {},
     "output_type": "execute_result"
    }
   ],
   "source": [
    "location_dim.columns"
   ]
  },
  {
   "cell_type": "code",
   "execution_count": 110,
   "metadata": {},
   "outputs": [],
   "source": [
    "# sales dimension\n",
    "sales_dim=real_estate_df[['lastSalePrice','lastSaleDate']].copy().drop_duplicates().reset_index(drop=True)\n",
    "sales_dim.index.name='sales_id'"
   ]
  },
  {
   "cell_type": "code",
   "execution_count": 111,
   "metadata": {},
   "outputs": [],
   "source": [
    "sales_dim.index.name='sales_id'"
   ]
  },
  {
   "cell_type": "code",
   "execution_count": 112,
   "metadata": {},
   "outputs": [],
   "source": [
    "sales_dim = sales_dim.reset_index()"
   ]
  },
  {
   "cell_type": "code",
   "execution_count": 113,
   "metadata": {},
   "outputs": [
    {
     "data": {
      "text/plain": [
       "Index(['sales_id', 'lastSalePrice', 'lastSaleDate'], dtype='object')"
      ]
     },
     "execution_count": 113,
     "metadata": {},
     "output_type": "execute_result"
    }
   ],
   "source": [
    "sales_dim.columns"
   ]
  },
  {
   "cell_type": "code",
   "execution_count": 114,
   "metadata": {},
   "outputs": [],
   "source": [
    "# features dimension\n",
    "features_dim=real_estate_df[['bedrooms','squareFootage','features', 'bathrooms','owner' ]].copy().drop_duplicates().reset_index(drop=True)\n"
   ]
  },
  {
   "cell_type": "code",
   "execution_count": 115,
   "metadata": {},
   "outputs": [],
   "source": [
    "features_dim.index.name='features_id'"
   ]
  },
  {
   "cell_type": "code",
   "execution_count": 116,
   "metadata": {},
   "outputs": [],
   "source": [
    "features_dim = features_dim.reset_index()"
   ]
  },
  {
   "cell_type": "code",
   "execution_count": 117,
   "metadata": {},
   "outputs": [
    {
     "data": {
      "text/plain": [
       "Index(['features_id', 'bedrooms', 'squareFootage', 'features', 'bathrooms',\n",
       "       'owner'],\n",
       "      dtype='object')"
      ]
     },
     "execution_count": 117,
     "metadata": {},
     "output_type": "execute_result"
    }
   ],
   "source": [
    "features_dim.columns"
   ]
  },
  {
   "cell_type": "code",
   "execution_count": 118,
   "metadata": {},
   "outputs": [],
   "source": [
    "# creating our property_fact_table\n",
    "property_fact_table=real_estate_df.merge(sales_dim,on=['lastSalePrice','lastSaleDate'],how='left')\\\n",
    "                                    .merge(location_dim,on=['addressLine1','city','state','zipCode','formattedAddress','county','longitude','latitude','addressLine2'],how='left' )\\\n",
    "                                    .merge(features_dim,on=['bedrooms','squareFootage','features', 'bathrooms','owner' ],how='left')\\\n",
    "                                     [['id','location_id','sales_id','features_id','yearBuilt','assessorID','legalDescription','ownerOccupied',\\\n",
    "                                    'propertyType','taxAssessment','propertyTaxes','subdivision','zoning']].copy().drop_duplicates().reset_index(drop=True)\n",
    "#property_fact_table"
   ]
  },
  {
   "cell_type": "code",
   "execution_count": 119,
   "metadata": {},
   "outputs": [],
   "source": [
    "# save into csv\n",
    "location_dim.to_csv('location_dim.csv',index=False)\n",
    "sales_dim.to_csv('sales_dim.csv',index=False)\n",
    "features_dim.to_csv('features_dim.csv',index=False)\n",
    "property_fact_table.to_csv('property_fact_table.csv',index=False)\n"
   ]
  },
  {
   "cell_type": "markdown",
   "metadata": {},
   "source": [
    "## Step is to draw our data Model on Lucid chart/ draw.io"
   ]
  },
  {
   "cell_type": "markdown",
   "metadata": {},
   "source": [
    "Now lets build the normalised tables,using the data model we already created as a guide. so we open the data model side by side and start creating the tables with the primary keys first"
   ]
  },
  {
   "cell_type": "code",
   "execution_count": 120,
   "metadata": {},
   "outputs": [
    {
     "data": {
      "text/plain": [
       "Index(['addressLine1', 'city', 'state', 'zipCode', 'formattedAddress',\n",
       "       'addressLine2', 'features', 'county', 'id', 'longitude', 'latitude',\n",
       "       'propertyType', 'bedrooms', 'bathrooms', 'squareFootage', 'yearBuilt',\n",
       "       'assessorID', 'legalDescription', 'subdivision', 'zoning',\n",
       "       'ownerOccupied', 'taxAssessment', 'propertyTaxes', 'lastSalePrice',\n",
       "       'lastSaleDate', 'owner'],\n",
       "      dtype='object')"
      ]
     },
     "execution_count": 120,
     "metadata": {},
     "output_type": "execute_result"
    }
   ],
   "source": [
    "real_estate_df.columns"
   ]
  },
  {
   "cell_type": "markdown",
   "metadata": {},
   "source": [
    "## Creating Tables & Loading Layer"
   ]
  },
  {
   "cell_type": "code",
   "execution_count": 121,
   "metadata": {},
   "outputs": [],
   "source": [
    "# Develop a function to get the database connections\n",
    "def get_db_connection():\n",
    "    connection = psycopg2.connect(\n",
    "        host='localhost',\n",
    "        database='zuma_realtors',\n",
    "        user='postgres',\n",
    "        password='Avokerie3'\n",
    "    )\n",
    "    return connection\n",
    "\n",
    "# connect to our database\n",
    "conn = get_db_connection"
   ]
  },
  {
   "cell_type": "code",
   "execution_count": 125,
   "metadata": {},
   "outputs": [],
   "source": [
    "# created functions that will set up the schema and the tables\n",
    "def create_tables():\n",
    "    conn=get_db_connection()\n",
    "    cursor=conn.cursor()\n",
    "    create_table_query= '''\n",
    "                            CREATE SCHEMA IF NOT EXISTS zuma_realtors;\n",
    "\n",
    "                            DROP TABLE IF EXISTS zuma_realtors.location_dim CASCADE;\n",
    "                            DROP TABLE IF EXISTS zuma_realtors.sales_dim CASCADE;\n",
    "                            DROP TABLE IF EXISTS zuma_realtors.features_dim CASCADE;\n",
    "                            DROP TABLE IF EXISTS zuma_realtors.property_fact_table CASCADE;                           \n",
    "\n",
    "                            CREATE TABLE IF NOT EXISTS zuma_realtors.location_dim(\n",
    "                                location_id INTEGER PRIMARY KEY,\n",
    "                                addressLine1 VARCHAR(100000),\n",
    "                                city VARCHAR(100000),\n",
    "                                state VARCHAR(100000),\n",
    "                                zipCode INTEGER,\n",
    "                                formattedAddress VARCHAR(100000),\n",
    "                                county VARCHAR(100000),\n",
    "                                longitude INTEGER,\n",
    "                                latitude INTEGER,\n",
    "                                addressLine2 VARCHAR(100000)\n",
    "                                );\n",
    "                            CREATE TABLE IF NOT EXISTS zuma_realtors.sales_dim(\n",
    "                                sales_id INTEGER PRIMARY KEY,\n",
    "                                lastSalePrice FLOAT,\n",
    "                                lastSaleDate VARCHAR(100000)\n",
    "                                );\n",
    "                            CREATE TABLE IF NOT EXISTS zuma_realtors.features_dim(\n",
    "                                features_id INTEGER PRIMARY KEY,\n",
    "                                bedrooms FLOAT,\n",
    "                                squareFootage FLOAT,\n",
    "                                features VARCHAR(100000),\n",
    "                                bathrooms FLOAT,\n",
    "                                owner VARCHAR(100000)\n",
    "                                );\n",
    "                            \n",
    "                            CREATE TABLE IF NOT EXISTS zuma_realtors.property_fact_table(\n",
    "                                id VARCHAR(100000) PRIMARY KEY,\n",
    "                                location_id INTEGER,\n",
    "                                sales_id INTEGER,\n",
    "                                features_id INTEGER,\n",
    "                                yearBuilt FLOAT,\n",
    "                                assessorID VARCHAR(100000),\n",
    "                                legalDescription VARCHAR(100000),\n",
    "                                ownerOccupied FLOAT,\n",
    "                                propertyType VARCHAR(100000),\n",
    "                                taxAssessment VARCHAR(100000),\n",
    "                                propertyTaxes VARCHAR(100000),\n",
    "                                subdivision VARCHAR(100000),\n",
    "                                zoning VARCHAR(100000),\n",
    "                                FOREIGN KEY (location_id) REFERENCES zuma_realtors.location_dim(location_id),\n",
    "                                FOREIGN KEY (sales_id) REFERENCES zuma_realtors.sales_dim(sales_id),\n",
    "                                FOREIGN KEY (features_id) REFERENCES zuma_realtors.features_dim(features_id)\n",
    "                                );\n",
    "                            '''\n",
    "    cursor.execute(create_table_query)\n",
    "    conn.commit()\n",
    "    cursor.close()\n",
    "    conn.close()"
   ]
  },
  {
   "cell_type": "code",
   "execution_count": 126,
   "metadata": {},
   "outputs": [],
   "source": [
    "create_tables()"
   ]
  },
  {
   "cell_type": "code",
   "execution_count": 127,
   "metadata": {},
   "outputs": [],
   "source": [
    "## Now lets load the datasets into the tables\n",
    "conn=get_db_connection()\n",
    "cursor=conn.cursor()\n",
    "\n",
    "# Insert the dataframe into SQL tables\n",
    "for _,row in location_dim.iterrows():\n",
    "    cursor.execute(\n",
    "        '''INSERT INTO zuma_realtors.location_dim(location_id,addressLine1,city,state,zipCode,\n",
    "                formattedAddress,county,longitude,latitude,addressLine2)\n",
    "            VALUES(%s,%s,%s,%s,%s,%s,%s,%s,%s,%s)''',\n",
    "            (row['location_id'],row['addressLine1'],row['city'],row['state'],row['zipCode'],\\\n",
    "             row['formattedAddress'],row['county'],row['longitude'],row['latitude'],row['addressLine2'])\n",
    "            )\n",
    "\n",
    "for _,row in sales_dim.iterrows():\n",
    "    cursor.execute(\n",
    "        '''INSERT INTO zuma_realtors.sales_dim(sales_id,lastSalePrice,lastSaleDate)\n",
    "            VALUES(%s,%s,%s)''',\n",
    "            (row['sales_id'],row['lastSalePrice'],row['lastSaleDate'])\n",
    "    )\n",
    "    \n",
    "for _,row in features_dim.iterrows():\n",
    "    cursor.execute(\n",
    "        '''INSERT INTO zuma_realtors.features_dim(features_id,bedrooms,squareFootage,features,bathrooms,\n",
    "                owner)\n",
    "            VALUES(%s,%s,%s,%s,%s,%s)''',\n",
    "            (row['features_id'],row['bedrooms'],row['squareFootage'],row['features'],row['bathrooms'],\\\n",
    "             row['owner'])\n",
    "    )\n",
    "\n",
    "for _,row in property_fact_table.iterrows():\n",
    "    cursor.execute(\n",
    "        '''INSERT INTO zuma_realtors.property_fact_table(id,location_id,sales_id,features_id,yearBuilt,assessorID,legalDescription,ownerOccupied,propertyType,taxAssessment,propertyTaxes,subdivision,zoning)\n",
    "            VALUES(%s,%s,%s,%s,%s,%s,%s,%s,%s,%s,%s,%s,%s)''',\n",
    "            (row['id'],row['location_id'],row['sales_id'],row['features_id'],row['yearBuilt'],\\\n",
    "             row['assessorID'],row['legalDescription'],row['ownerOccupied'],row['propertyType'],row['taxAssessment'],row['propertyTaxes'],row['subdivision'],row['zoning'])\n",
    "            )\n",
    "    \n",
    "#commit changes\n",
    "conn.commit()\n",
    "\n",
    "#close connection\n",
    "cursor.close()\n",
    "conn.close()\n"
   ]
  }
 ],
 "metadata": {
  "kernelspec": {
   "display_name": "Python 3",
   "language": "python",
   "name": "python3"
  },
  "language_info": {
   "codemirror_mode": {
    "name": "ipython",
    "version": 3
   },
   "file_extension": ".py",
   "mimetype": "text/x-python",
   "name": "python",
   "nbconvert_exporter": "python",
   "pygments_lexer": "ipython3",
   "version": "3.12.2"
  }
 },
 "nbformat": 4,
 "nbformat_minor": 2
}
